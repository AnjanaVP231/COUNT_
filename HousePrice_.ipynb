{
  "nbformat": 4,
  "nbformat_minor": 0,
  "metadata": {
    "colab": {
      "provenance": [],
      "authorship_tag": "ABX9TyMbeATEHR+3Z4wyhKDnKEMd",
      "include_colab_link": true
    },
    "kernelspec": {
      "name": "python3",
      "display_name": "Python 3"
    },
    "language_info": {
      "name": "python"
    }
  },
  "cells": [
    {
      "cell_type": "markdown",
      "metadata": {
        "id": "view-in-github",
        "colab_type": "text"
      },
      "source": [
        "<a href=\"https://colab.research.google.com/github/AnjanaVP231/COUNT_/blob/main/HousePrice_.ipynb\" target=\"_parent\"><img src=\"https://colab.research.google.com/assets/colab-badge.svg\" alt=\"Open In Colab\"/></a>"
      ]
    },
    {
      "cell_type": "code",
      "execution_count": 3,
      "metadata": {
        "colab": {
          "base_uri": "https://localhost:8080/"
        },
        "id": "BKNgDhRsFavA",
        "outputId": "118354ad-09fd-4290-aeeb-30196563d2f8"
      },
      "outputs": [
        {
          "output_type": "stream",
          "name": "stdout",
          "text": [
            "Predicted price for 1750 sq.ft: [800000.]\n"
          ]
        },
        {
          "output_type": "stream",
          "name": "stderr",
          "text": [
            "/usr/local/lib/python3.11/dist-packages/sklearn/utils/validation.py:2739: UserWarning: X does not have valid feature names, but LinearRegression was fitted with feature names\n",
            "  warnings.warn(\n"
          ]
        }
      ],
      "source": [
        "\n",
        "import pandas as pd\n",
        "from sklearn.linear_model import LinearRegression\n",
        "\n",
        "# Example data\n",
        "data = pd.DataFrame({\n",
        "    'Area': [1000, 1500, 2000, 2500, 3000],\n",
        "    'Price': [500000, 700000, 900000, 1100000, 1300000]\n",
        "})\n",
        "\n",
        "# Separate features and target\n",
        "X = data[['Area']]\n",
        "y = data['Price']\n",
        "\n",
        "# Create and train model\n",
        "model = LinearRegression()\n",
        "model.fit(X,y)\n",
        "\n",
        "# Predict price for a 1750 sq.ft house\n",
        "predicted_price = model.predict([[1750]])\n",
        "print(f\"Predicted price for 1750 sq.ft: {predicted_price}\")"
      ]
    }
  ]
}