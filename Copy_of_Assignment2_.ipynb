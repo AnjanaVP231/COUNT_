{
  "nbformat": 4,
  "nbformat_minor": 0,
  "metadata": {
    "colab": {
      "provenance": [],
      "include_colab_link": true
    },
    "kernelspec": {
      "name": "python3",
      "display_name": "Python 3"
    },
    "language_info": {
      "name": "python"
    }
  },
  "cells": [
    {
      "cell_type": "markdown",
      "metadata": {
        "id": "view-in-github",
        "colab_type": "text"
      },
      "source": [
        "<a href=\"https://colab.research.google.com/github/AnjanaVP231/COUNT_/blob/main/Copy_of_Assignment2_.ipynb\" target=\"_parent\"><img src=\"https://colab.research.google.com/assets/colab-badge.svg\" alt=\"Open In Colab\"/></a>"
      ]
    },
    {
      "cell_type": "markdown",
      "source": [
        "1"
      ],
      "metadata": {
        "id": "Jz1PoysGRDwL"
      }
    },
    {
      "cell_type": "code",
      "execution_count": null,
      "metadata": {
        "id": "Df7ENNiEQ8W3"
      },
      "outputs": [],
      "source": [
        "a = [ [3,4], [7,8] ]\n",
        "for i in range(2):\n",
        "    for j in range(2):\n",
        "        print(a[i][j])"
      ]
    },
    {
      "cell_type": "markdown",
      "source": [
        "2"
      ],
      "metadata": {
        "id": "_XtQSlz1RH9i"
      }
    },
    {
      "cell_type": "code",
      "source": [
        "for i in range(1,10):\n",
        "  if(i*6 > 30):\n",
        "    print(i,\"x\",6,\"= #\",i*6)\n",
        "  else:\n",
        "    print(i,\"x\",6,\"=\",i*6)"
      ],
      "metadata": {
        "colab": {
          "base_uri": "https://localhost:8080/"
        },
        "id": "AaTcM1dQRG0S",
        "outputId": "5b711be6-b878-45a4-fa23-40d048c262a4"
      },
      "execution_count": null,
      "outputs": [
        {
          "output_type": "stream",
          "name": "stdout",
          "text": [
            "1 x 6 = 6\n",
            "2 x 6 = 12\n",
            "3 x 6 = 18\n",
            "4 x 6 = 24\n",
            "5 x 6 = 30\n",
            "6 x 6 = # 36\n",
            "7 x 6 = # 42\n",
            "8 x 6 = # 48\n",
            "9 x 6 = # 54\n"
          ]
        }
      ]
    },
    {
      "cell_type": "markdown",
      "source": [
        "3"
      ],
      "metadata": {
        "id": "FtpxIwfEUrH-"
      }
    },
    {
      "cell_type": "code",
      "source": [
        "def area(r):\n",
        "  print(\"Area of circle = \" ,3.14*r**2 )\n",
        "n=int(input(\"Enter radius : \"))\n",
        "area(n)"
      ],
      "metadata": {
        "colab": {
          "base_uri": "https://localhost:8080/"
        },
        "id": "RdiBqkGtUqW_",
        "outputId": "d61cbf85-4e81-4652-fc49-0d43f78a7c91"
      },
      "execution_count": null,
      "outputs": [
        {
          "output_type": "stream",
          "name": "stdout",
          "text": [
            "Enter radius : 9\n",
            "Area of circle =  254.34\n"
          ]
        }
      ]
    },
    {
      "cell_type": "markdown",
      "source": [
        "4"
      ],
      "metadata": {
        "id": "C_BbDUldUpQP"
      }
    },
    {
      "cell_type": "code",
      "source": [
        "import math\n",
        "n=int(input(\"Enter angle in degree : \"))\n",
        "a=math.sin(n)\n",
        "a"
      ],
      "metadata": {
        "colab": {
          "base_uri": "https://localhost:8080/"
        },
        "id": "3JGe4ZAmTk2g",
        "outputId": "b214b0b1-9388-4b94-fdeb-0e60a0d147da"
      },
      "execution_count": null,
      "outputs": [
        {
          "name": "stdout",
          "output_type": "stream",
          "text": [
            "Enter angle in degree : 50\n"
          ]
        },
        {
          "output_type": "execute_result",
          "data": {
            "text/plain": [
              "-0.26237485370392877"
            ]
          },
          "metadata": {},
          "execution_count": 6
        }
      ]
    },
    {
      "cell_type": "markdown",
      "source": [
        "5"
      ],
      "metadata": {
        "id": "Zyl1Npj3VuEN"
      }
    },
    {
      "cell_type": "code",
      "source": [
        "n=1\n",
        "while True:\n",
        "  if ((n**3)>2000):\n",
        "    break\n",
        "  else:\n",
        "    print(n**3)\n",
        "    n+=1"
      ],
      "metadata": {
        "colab": {
          "base_uri": "https://localhost:8080/"
        },
        "id": "cBb1M0fBVvcl",
        "outputId": "db726082-019b-4162-d353-8a9ba10cb113"
      },
      "execution_count": null,
      "outputs": [
        {
          "output_type": "stream",
          "name": "stdout",
          "text": [
            "1\n",
            "8\n",
            "27\n",
            "64\n",
            "125\n",
            "216\n",
            "343\n",
            "512\n",
            "729\n",
            "1000\n",
            "1331\n",
            "1728\n"
          ]
        }
      ]
    },
    {
      "cell_type": "markdown",
      "source": [
        "6"
      ],
      "metadata": {
        "id": "u38TH5h0X8NT"
      }
    },
    {
      "cell_type": "code",
      "source": [
        "print(\"Volume of box=\",2.54*3*3*4*5)"
      ],
      "metadata": {
        "colab": {
          "base_uri": "https://localhost:8080/"
        },
        "id": "52bNLHNsX906",
        "outputId": "fbf37bae-8a19-4785-fcbc-64ee68551c3b"
      },
      "execution_count": null,
      "outputs": [
        {
          "output_type": "stream",
          "name": "stdout",
          "text": [
            "Volume of box= 457.2\n"
          ]
        }
      ]
    },
    {
      "cell_type": "markdown",
      "source": [
        "7"
      ],
      "metadata": {
        "id": "c3U5VAlGKJIt"
      }
    },
    {
      "cell_type": "code",
      "source": [
        "import math\n",
        "r = float(input(\"Enter Diameter of the sphere (and side of cube): \"))\n",
        "cv = r ** 3\n",
        "sv = (4/3) * math.pi * (r/2 ** 3)\n",
        "p = (sv / cv) * 100\n",
        "print(f\"Percentage volume occupied by the sphere is: {p:.2f}%\")"
      ],
      "metadata": {
        "colab": {
          "base_uri": "https://localhost:8080/"
        },
        "id": "NhIlrqxkKGDT",
        "outputId": "1f760571-eaf3-4cb0-fff9-2f0c768cda1a"
      },
      "execution_count": null,
      "outputs": [
        {
          "output_type": "stream",
          "name": "stdout",
          "text": [
            "Enter Diameter of the sphere (and side of cube): 1\n",
            "Percentage volume occupied by the sphere is: 52.36%\n"
          ]
        }
      ]
    },
    {
      "cell_type": "markdown",
      "source": [
        "8"
      ],
      "metadata": {
        "id": "cHLuvbh7KaY_"
      }
    },
    {
      "cell_type": "code",
      "source": [
        "\n",
        "a = int(input(\"Enter the dividend: \"))\n",
        "b = int(input(\"Enter the divisor: \"))\n",
        "c,d=a,b\n",
        "if b == 0:\n",
        "    print(\"Error: Cannot divide by zero\")\n",
        "else:\n",
        "    q = 0\n",
        "    sign = -1 if ((a < 0) or  (b < 0)) else 1\n",
        "    a = abs(a)\n",
        "    b = abs(b)\n",
        "    while a >= b:\n",
        "        a -= b\n",
        "        q += 1\n",
        "    print(f\"{c}/{d} = {sign * q}\")"
      ],
      "metadata": {
        "colab": {
          "base_uri": "https://localhost:8080/"
        },
        "id": "jc_Rg0qDKbYZ",
        "outputId": "7ffe9f79-3bb6-4087-c7b9-20f7f5a7209e"
      },
      "execution_count": null,
      "outputs": [
        {
          "output_type": "stream",
          "name": "stdout",
          "text": [
            "Enter the dividend: 7\n",
            "Enter the divisor: 2\n",
            "7/2 = 3\n"
          ]
        }
      ]
    },
    {
      "cell_type": "markdown",
      "source": [
        "9"
      ],
      "metadata": {
        "id": "2HHWpPDUK7nZ"
      }
    },
    {
      "cell_type": "code",
      "source": [
        "while True:\n",
        "    s = input(\"Enter a string: \")\n",
        "    c = s.lower().count('a')\n",
        "    print(f\"The character 'a' appears {c} times.\")\n",
        "    if c == 0:\n",
        "        print(\"No 'a' found. Exiting.\")\n",
        "        break"
      ],
      "metadata": {
        "colab": {
          "base_uri": "https://localhost:8080/"
        },
        "id": "_hsFr3HYK9eJ",
        "outputId": "a4de3fc7-f49a-4aef-df61-d6ea7b831f92"
      },
      "execution_count": null,
      "outputs": [
        {
          "output_type": "stream",
          "name": "stdout",
          "text": [
            "Enter a string: Haahd\n",
            "The character 'a' appears 2 times.\n",
            "Enter a string: Yxhx\n",
            "The character 'a' appears 0 times.\n",
            "No 'a' found. Exiting.\n"
          ]
        }
      ]
    }
  ]
}